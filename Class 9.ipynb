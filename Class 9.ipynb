{
 "cells": [
  {
   "cell_type": "code",
   "execution_count": null,
   "id": "d51972ba",
   "metadata": {},
   "outputs": [],
   "source": [
    "# a = [\"apple\" , \"apple\" , \"mango\" , \"lemon\" , \"lemon\"]\n",
    "\n",
    "# duplicate_list = [\"apple\" , \"lemon\"]\n",
    "\n",
    "# unique_list = [\"apple\" , \"mango\" , \"lemon\"]"
   ]
  },
  {
   "cell_type": "code",
   "execution_count": 8,
   "id": "b247eb8e",
   "metadata": {},
   "outputs": [
    {
     "name": "stdout",
     "output_type": "stream",
     "text": [
      "['apple', 'apple', 'mango', 'lemon', 'lemon']\n"
     ]
    },
    {
     "ename": "NameError",
     "evalue": "name 'i' is not defined",
     "output_type": "error",
     "traceback": [
      "\u001b[1;31m---------------------------------------------------------------------------\u001b[0m",
      "\u001b[1;31mNameError\u001b[0m                                 Traceback (most recent call last)",
      "Cell \u001b[1;32mIn[8], line 5\u001b[0m\n\u001b[0;32m      3\u001b[0m duplicate_list \u001b[38;5;241m=\u001b[39m[]\n\u001b[0;32m      4\u001b[0m unique_list \u001b[38;5;241m=\u001b[39m []\n\u001b[1;32m----> 5\u001b[0m \u001b[38;5;28;01mif\u001b[39;00m i \u001b[38;5;129;01min\u001b[39;00m a:\n\u001b[0;32m      6\u001b[0m     \u001b[38;5;28;01mif\u001b[39;00m a[\u001b[38;5;241m0\u001b[39m] \u001b[38;5;241m==\u001b[39ma[\u001b[38;5;241m1\u001b[39m]:\n\u001b[0;32m      7\u001b[0m         duplicate_list\u001b[38;5;241m.\u001b[39mappend[i]\n",
      "\u001b[1;31mNameError\u001b[0m: name 'i' is not defined"
     ]
    }
   ],
   "source": [
    "a = [\"apple\" , \"apple\" , \"mango\" , \"lemon\" , \"lemon\"]\n",
    "print(b)\n",
    "duplicate_list =[]\n",
    "unique_list = []\n",
    "if i in a:\n",
    "    if a[0] ==a[1]:\n",
    "        duplicate_list.append[i]\n",
    "    if a"
   ]
  },
  {
   "cell_type": "code",
   "execution_count": null,
   "id": "42bc6b12",
   "metadata": {},
   "outputs": [],
   "source": [
    "for i in a:\n",
    "    if "
   ]
  },
  {
   "cell_type": "code",
   "execution_count": 9,
   "id": "90092e3f",
   "metadata": {},
   "outputs": [],
   "source": [
    "# a = [[\"hi\",\"hello\",\"welcome\"], [1,2,3], [\"demo\", \"try\"], [4,5,6]]\n",
    "\n",
    "# out1 = [\"hi\",\"hello\",\"welcome\",\"demo\", \"try\"]\n",
    "\n",
    "# out2 = [1,2,3,4,5,6]"
   ]
  },
  {
   "cell_type": "code",
   "execution_count": 10,
   "id": "526df269",
   "metadata": {},
   "outputs": [],
   "source": [
    "a = [[\"hi\",\"hello\",\"welcome\"], [1,2,3], [\"demo\", \"try\"], [4,5,6]]"
   ]
  },
  {
   "cell_type": "code",
   "execution_count": 29,
   "id": "0b332a70",
   "metadata": {},
   "outputs": [
    {
     "name": "stdout",
     "output_type": "stream",
     "text": [
      "['hi', 'hello', 'welcome', 'demo', 'try']\n",
      "[1, 2, 3, 4, 5, 6]\n"
     ]
    }
   ],
   "source": [
    "a = [[\"hi\",\"hello\",\"welcome\"], [1,2,3], [\"demo\", \"try\"], [4,5,6]]\n",
    "out1 = []\n",
    "out2 = []\n",
    "\n",
    "# for out1 in a:\n",
    "# #       print(out1, \"outer_list\")\n",
    "#       string_flag = False\n",
    "#       int_flag = False\n",
    "#     for out2 in out1:\n",
    "#             print(out2, \"inner_list\")\n",
    "\n",
    "for outer1 in a:\n",
    "#     print(outer1, \"outer_list\") # for all outer list items\n",
    "    string_flag = False\n",
    "    int_flag = False\n",
    "    for outer2 in outer1: # for all inner list items\n",
    "#         print(outer2, \"inner_list\")\n",
    "        if isinstance(outer2, str):\n",
    "            string_flag = True\n",
    "        if isinstance(outer2, int):\n",
    "            int_flag = True\n",
    "            \n",
    "    if string_flag:\n",
    "        out1.extend(outer1)\n",
    "    if int_flag:\n",
    "        out2.extend(outer1)\n",
    "print(out1)\n",
    "print(out2)\n",
    "    "
   ]
  },
  {
   "cell_type": "code",
   "execution_count": 31,
   "id": "5ec95428",
   "metadata": {},
   "outputs": [
    {
     "name": "stdout",
     "output_type": "stream",
     "text": [
      "String List: ['hi', 'hello', 'welcome', 'demo', 'try']\n",
      "Int List: [1, 2, 3, 4, 5, 6]\n"
     ]
    }
   ],
   "source": [
    "int_list = []\n",
    "string_list = []\n",
    "a = [[\"hi\",\"hello\",\"welcome\"], [1,2,3], [\"demo\", \"try\"], [4,5,6]]\n",
    "\n",
    "for out1 in a: # outer list\n",
    "    for item in out1:# inner list\n",
    "        if isinstance(item, str):\n",
    "            string_list.append(item)\n",
    "        elif isinstance(item, int):\n",
    "            int_list.append(item)\n",
    "            \n",
    "print(\"String List:\", string_list)\n",
    "print(\"Int List:\", int_list)"
   ]
  },
  {
   "cell_type": "code",
   "execution_count": null,
   "id": "d57c7fc6",
   "metadata": {},
   "outputs": [],
   "source": []
  }
 ],
 "metadata": {
  "kernelspec": {
   "display_name": "Python 3 (ipykernel)",
   "language": "python",
   "name": "python3"
  },
  "language_info": {
   "codemirror_mode": {
    "name": "ipython",
    "version": 3
   },
   "file_extension": ".py",
   "mimetype": "text/x-python",
   "name": "python",
   "nbconvert_exporter": "python",
   "pygments_lexer": "ipython3",
   "version": "3.11.5"
  }
 },
 "nbformat": 4,
 "nbformat_minor": 5
}
